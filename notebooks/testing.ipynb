{
 "cells": [
  {
   "cell_type": "code",
   "execution_count": 1,
   "metadata": {},
   "outputs": [
    {
     "name": "stdout",
     "output_type": "stream",
     "text": [
      "{'added': {'c': 3}, 'removed': {'a': 1, 'b.y': 20}, 'modified': {'b.x': {'from': 10, 'to': 15}}}\n"
     ]
    }
   ],
   "source": [
    "def dict_diff(old_dict, new_dict, path=''):\n",
    "    \"\"\"\n",
    "    Recursively finds the differences between two nested dictionaries.\n",
    "\n",
    "    :param old_dict: The original dictionary.\n",
    "    :param new_dict: The new dictionary to compare against the original.\n",
    "    :param path: The current path in the dictionary (used internally for recursion).\n",
    "    :return: A dictionary containing the differences. Differences are categorized as 'added', 'removed', or 'modified'.\n",
    "    \"\"\"\n",
    "    diff = {'added': {}, 'removed': {}, 'modified': {}}\n",
    "\n",
    "    for key in old_dict:\n",
    "        if key not in new_dict:\n",
    "            diff['removed'][path + key] = old_dict[key]\n",
    "        elif old_dict[key] != new_dict[key]:\n",
    "            if isinstance(old_dict[key], dict) and isinstance(new_dict[key], dict):\n",
    "                deeper_diff = dict_diff(old_dict[key], new_dict[key], path + key + '.')\n",
    "                for diff_type in deeper_diff:\n",
    "                    if deeper_diff[diff_type]:\n",
    "                        diff[diff_type].update(deeper_diff[diff_type])\n",
    "            else:\n",
    "                diff['modified'][path + key] = {'from': old_dict[key], 'to': new_dict[key]}\n",
    "\n",
    "    for key in new_dict:\n",
    "        if key not in old_dict:\n",
    "            diff['added'][path + key] = new_dict[key]\n",
    "\n",
    "    return {k: v for k, v in diff.items() if v}  # Filter out empty categories\n",
    "\n",
    "# Example usage\n",
    "old_dict = {'a': 1, 'b': {'x': 10, 'y': 20}}\n",
    "new_dict = {'b': {'x': 15}, 'c': 3}\n",
    "\n",
    "differences = dict_diff(old_dict, new_dict)\n",
    "print(differences)\n"
   ]
  },
  {
   "cell_type": "code",
   "execution_count": 2,
   "metadata": {},
   "outputs": [
    {
     "name": "stdout",
     "output_type": "stream",
     "text": [
      "{'dictionary_item_added': [root['c']], 'dictionary_item_removed': [root['a'], root['b']['y']], 'values_changed': {\"root['b']['x']\": {'new_value': 15, 'old_value': 10}}}\n"
     ]
    }
   ],
   "source": [
    "from deepdiff import DeepDiff\n",
    "\n",
    "d1 = {'a': 1, 'b': {'x': 10, 'y': 20}}\n",
    "d2 = {'b': {'x': 15}, 'c': 3}\n",
    "diff = DeepDiff(d1, d2, ignore_order=True)\n",
    "\n",
    "print(diff)\n"
   ]
  },
  {
   "cell_type": "code",
   "execution_count": 4,
   "metadata": {},
   "outputs": [
    {
     "name": "stdout",
     "output_type": "stream",
     "text": [
      "├── a (dict)\n",
      "    ├── b (int)\n",
      "    ├── c (list)\n",
      "        ├── 0 (int)\n",
      "        ├── 1 (int)\n",
      "\n"
     ]
    }
   ],
   "source": [
    "import sys\n",
    "sys.path.insert(0, \"../\")\n",
    "import florida as fl\n",
    "d = {\"a\": {\"b\": 1, \"c\": [1,2]}}\n",
    "s = fl.dict2schema(d, show_pipes=True)\n",
    "print(s)"
   ]
  },
  {
   "cell_type": "code",
   "execution_count": null,
   "metadata": {},
   "outputs": [],
   "source": []
  }
 ],
 "metadata": {
  "kernelspec": {
   "display_name": "holocaust",
   "language": "python",
   "name": "python3"
  },
  "language_info": {
   "codemirror_mode": {
    "name": "ipython",
    "version": 3
   },
   "file_extension": ".py",
   "mimetype": "text/x-python",
   "name": "python",
   "nbconvert_exporter": "python",
   "pygments_lexer": "ipython3",
   "version": "3.10.13"
  }
 },
 "nbformat": 4,
 "nbformat_minor": 2
}
