{
 "cells": [
  {
   "cell_type": "code",
   "execution_count": 1,
   "metadata": {},
   "outputs": [
    {
     "name": "stdout",
     "output_type": "stream",
     "text": [
      "├── ids_name (str)\n",
      "├── ids_uan (str)\n",
      "├── file_name (str)\n",
      "├── title (str)\n",
      "├── edan_url (str)\n",
      "├── data (dict)\n",
      "│   ├── freetext (dict)\n",
      "│   │   ├── date (list)\n",
      "│   │   │   ├── 0 (dict)\n",
      "│   │   │       ├── label (str)\n",
      "│   │   │       ├── content (str)\n",
      "│   │   ├── name (list)\n",
      "│   │   │   ├── 0 (dict)\n",
      "│   │   │       ├── label (str)\n",
      "│   │   │       ├── content (str)\n",
      "│   │   ├── notes (list)\n",
      "│   │   │   ├── 0 (dict)\n",
      "│   │   │   │   ├── label (str)\n",
      "│   │   │   │   ├── content (str)\n",
      "│   │   │   ├── 1 (dict)\n",
      "│   │   │       ├── label (str)\n",
      "│   │   │       ├── content (str)\n",
      "│   │   ├── place (list)\n",
      "│   │   │   ├── 0 (dict)\n",
      "│   │   │       ├── label (str)\n",
      "│   │   │       ├── content (str)\n",
      "│   │   ├── topic (list)\n",
      "│   │   │   ├── 0 (dict)\n",
      "│   │   │   │   ├── label (str)\n",
      "│   │   │   │   ├── content (str)\n",
      "│   │   │   ├── 1 (dict)\n",
      "│   │   │       ├── label (str)\n",
      "│   │   │       ├── content (str)\n",
      "│   │   ├── setName (list)\n",
      "│   │   │   ├── 0 (dict)\n",
      "│   │   │       ├── label (str)\n",
      "│   │   │       ├── content (str)\n",
      "│   │   ├── dataSource (list)\n",
      "│   │   │   ├── 0 (dict)\n",
      "│   │   │       ├── label (str)\n",
      "│   │   │       ├── content (str)\n",
      "│   │   ├── identifier (list)\n",
      "│   │   │   ├── 0 (dict)\n",
      "│   │   │       ├── label (str)\n",
      "│   │   │       ├── content (str)\n",
      "│   │   ├── objectType (list)\n",
      "│   │   │   ├── 0 (dict)\n",
      "│   │   │       ├── label (str)\n",
      "│   │   │       ├── content (str)\n",
      "│   │   ├── physicalDescription (list)\n",
      "│   │       ├── 0 (dict)\n",
      "│   │       │   ├── label (str)\n",
      "│   │       │   ├── content (str)\n",
      "│   │       ├── 1 (dict)\n",
      "│   │           ├── label (str)\n",
      "│   │           ├── content (str)\n",
      "│   ├── indexedStructured (dict)\n",
      "│   │   ├── date (list)\n",
      "│   │   │   ├── 0 (str)\n",
      "│   │   │   ├── 1 (str)\n",
      "│   │   ├── name (list)\n",
      "│   │   │   ├── 0 (str)\n",
      "│   │   ├── place (list)\n",
      "│   │   │   ├── 0 (str)\n",
      "│   │   ├── topic (list)\n",
      "│   │   │   ├── 0 (str)\n",
      "│   │   │   ├── 1 (str)\n",
      "│   │   ├── geoLocation (list)\n",
      "│   │   │   ├── 0 (dict)\n",
      "│   │   │       ├── Other (dict)\n",
      "│   │   │           ├── type (str)\n",
      "│   │   │           ├── content (str)\n",
      "│   │   ├── object_type (list)\n",
      "│   │   │   ├── 0 (str)\n",
      "│   │   ├── online_media_type (list)\n",
      "│   │       ├── 0 (str)\n",
      "│   ├── descriptiveNonRepeating (dict)\n",
      "│       ├── guid (str)\n",
      "│       ├── title (dict)\n",
      "│       │   ├── label (str)\n",
      "│       │   ├── content (str)\n",
      "│       ├── record_ID (str)\n",
      "│       ├── unit_code (str)\n",
      "│       ├── title_sort (str)\n",
      "│       ├── data_source (str)\n",
      "│       ├── record_link (str)\n",
      "│       ├── online_media (dict)\n",
      "│       │   ├── media (list)\n",
      "│       │   │   ├── 0 (dict)\n",
      "│       │   │       ├── id (str)\n",
      "│       │   │       ├── guid (str)\n",
      "│       │   │       ├── type (str)\n",
      "│       │   │       ├── idsId (str)\n",
      "│       │   │       ├── usage (dict)\n",
      "│       │   │       │   ├── access (str)\n",
      "│       │   │       ├── content (str)\n",
      "│       │   │       ├── thumbnail (str)\n",
      "│       │   ├── mediaCount (int)\n",
      "│       ├── metadata_usage (dict)\n",
      "│           ├── access (str)\n",
      "├── alt_text (str)\n",
      "├── image_description (str)\n",
      "\n"
     ]
    }
   ],
   "source": [
    "import sys\n",
    "sys.path.insert(0, \"../\")\n",
    "from florida import dict2schema, target2index\n",
    "import json\n",
    "\n",
    "with open(\"./description.json\", \"r\") as f:\n",
    "    data = json.load(f)\n",
    "\n",
    "# # Example dictionary\n",
    "# example_dict = {\n",
    "#     'key1': 'value1',\n",
    "#     'key2': {\n",
    "#         'subkey1': 'subvalue1',\n",
    "#         'subkey2': {\n",
    "#             'subsubkey1': 'subsubvalue1',\n",
    "#             \"list1\": [{\"test\": \"case\"}]\n",
    "#         },\n",
    "#         'subkey3': 123,\n",
    "#         'subkey4': [1, 2, 3]\n",
    "#     },\n",
    "#     'key3': True\n",
    "# }\n",
    "\n",
    "# Get the schema as a string\n",
    "print(dict2schema(data, indent=0, show_pipes=True))\n",
    "\n",
    "# Get the schema as a dictionary\n",
    "# print(dict2schema(example_dict, style=\"dict\"))"
   ]
  },
  {
   "cell_type": "code",
   "execution_count": 11,
   "metadata": {},
   "outputs": [
    {
     "name": "stdout",
     "output_type": "stream",
     "text": [
      "structure['data']['freetext']['name']\n",
      "structure['data']['indexedStructured']['name']\n"
     ]
    }
   ],
   "source": [
    "\n",
    "\n",
    "# Example usage\n",
    "nested_structure = {\n",
    "    'item1': 'value1',\n",
    "    'nested': {\n",
    "        'item2': 'value2',\n",
    "        'alt_text': 'some text',\n",
    "    },\n",
    "    'list': [{'alt_text': 'another text'}, {'item3': 'value3'}]\n",
    "}\n",
    "\n",
    "for item in generate_access_codes('name', data):\n",
    "    print(item)\n"
   ]
  },
  {
   "cell_type": "code",
   "execution_count": 4,
   "metadata": {},
   "outputs": [
    {
     "data": {
      "text/plain": [
       "'value2'"
      ]
     },
     "execution_count": 4,
     "metadata": {},
     "output_type": "execute_result"
    }
   ],
   "source": [
    "nested_structure['nested']['item2']"
   ]
  },
  {
   "cell_type": "code",
   "execution_count": null,
   "metadata": {},
   "outputs": [],
   "source": []
  }
 ],
 "metadata": {
  "kernelspec": {
   "display_name": "holocaust",
   "language": "python",
   "name": "python3"
  },
  "language_info": {
   "codemirror_mode": {
    "name": "ipython",
    "version": 3
   },
   "file_extension": ".py",
   "mimetype": "text/x-python",
   "name": "python",
   "nbconvert_exporter": "python",
   "pygments_lexer": "ipython3",
   "version": "3.10.13"
  }
 },
 "nbformat": 4,
 "nbformat_minor": 2
}
