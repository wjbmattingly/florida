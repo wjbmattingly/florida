{
 "cells": [
  {
   "cell_type": "code",
   "execution_count": 5,
   "metadata": {},
   "outputs": [
    {
     "name": "stdout",
     "output_type": "stream",
     "text": [
      "key1 (str)\n",
      "key2 (dict)\n",
      "    subkey1 (str)\n",
      "    subkey2 (dict)\n",
      "        subsubkey1 (str)\n",
      "    subkey3 (int)\n",
      "    subkey4 (list)\n",
      "key3 (bool)\n",
      "\n",
      "{'key1': {'type': 'str'}, 'key2': {'type': 'dict', 'nested': {'subkey1': {'type': 'str'}, 'subkey2': {'type': 'dict', 'nested': {'subsubkey1': {'type': 'str'}}}, 'subkey3': {'type': 'int'}, 'subkey4': {'type': 'list'}}}, 'key3': {'type': 'bool'}}\n"
     ]
    }
   ],
   "source": [
    "import sys\n",
    "sys.path.insert(0, \"../\")\n",
    "from florida import dict2schema\n",
    "\n",
    "\n",
    "# Example dictionary\n",
    "example_dict = {\n",
    "    'key1': 'value1',\n",
    "    'key2': {\n",
    "        'subkey1': 'subvalue1',\n",
    "        'subkey2': {\n",
    "            'subsubkey1': 'subsubvalue1'\n",
    "        },\n",
    "        'subkey3': 123,\n",
    "        'subkey4': [1, 2, 3]\n",
    "    },\n",
    "    'key3': True\n",
    "}\n",
    "\n",
    "# Get the schema as a string\n",
    "print(dict2schema(example_dict))\n",
    "\n",
    "# Get the schema as a dictionary\n",
    "print(dict2schema(example_dict, style=\"dict\"))"
   ]
  },
  {
   "cell_type": "code",
   "execution_count": null,
   "metadata": {},
   "outputs": [],
   "source": []
  }
 ],
 "metadata": {
  "kernelspec": {
   "display_name": "holocaust",
   "language": "python",
   "name": "python3"
  },
  "language_info": {
   "codemirror_mode": {
    "name": "ipython",
    "version": 3
   },
   "file_extension": ".py",
   "mimetype": "text/x-python",
   "name": "python",
   "nbconvert_exporter": "python",
   "pygments_lexer": "ipython3",
   "version": "3.10.13"
  }
 },
 "nbformat": 4,
 "nbformat_minor": 2
}
