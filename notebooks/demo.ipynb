{
 "cells": [
  {
   "cell_type": "code",
   "execution_count": 3,
   "metadata": {},
   "outputs": [
    {
     "name": "stdout",
     "output_type": "stream",
     "text": [
      "├── key1 (str)\n",
      "├── key2 (dict)\n",
      "│   ├── subkey1 (str)\n",
      "│   ├── subkey2 (dict)\n",
      "│   │   ├── subsubkey1 (str)\n",
      "│   │   ├── list1 (list)\n",
      "│   │       ├── 0 (dict)\n",
      "│   │           ├── test (str)\n",
      "│   ├── subkey3 (int)\n",
      "│   ├── subkey4 (list)\n",
      "│       ├── 0 (int)\n",
      "│       ├── 1 (int)\n",
      "│       ├── 2 (int)\n",
      "├── key3 (bool)\n",
      "\n"
     ]
    }
   ],
   "source": [
    "import sys\n",
    "sys.path.insert(0, \"../\")\n",
    "from florida import dict2schema, target2index\n",
    "import json\n",
    "\n",
    "# with open(\"./description.json\", \"r\") as f:\n",
    "#     data = json.load(f)\n",
    "\n",
    "# # Example dictionary\n",
    "example_dict = {\n",
    "    'key1': 'value1',\n",
    "    'key2': {\n",
    "        'subkey1': 'subvalue1',\n",
    "        'subkey2': {\n",
    "            'subsubkey1': 'subsubvalue1',\n",
    "            \"list1\": [{\"test\": \"case\"}]\n",
    "        },\n",
    "        'subkey3': 123,\n",
    "        'subkey4': [1, 2, 3]\n",
    "    },\n",
    "    'key3': True\n",
    "}\n",
    "\n",
    "# Get the schema as a string\n",
    "print(dict2schema(example_dict, indent=0, show_pipes=True))\n",
    "\n",
    "# Get the schema as a dictionary\n",
    "# print(dict2schema(example_dict, style=\"dict\"))"
   ]
  },
  {
   "cell_type": "code",
   "execution_count": 6,
   "metadata": {},
   "outputs": [
    {
     "name": "stdout",
     "output_type": "stream",
     "text": [
      "structure['nested']['item2']\n"
     ]
    }
   ],
   "source": [
    "\n",
    "\n",
    "# Example usage\n",
    "nested_structure = {\n",
    "    'item1': 'value1',\n",
    "    'nested': {\n",
    "        'item2': 'value2',\n",
    "        'alt_text': 'some text',\n",
    "    },\n",
    "    'list': [{'alt_text': 'another text'}, {'item3': 'value3'}]\n",
    "}\n",
    "\n",
    "for item in target2index('item2', nested_structure):\n",
    "    print(item)\n"
   ]
  },
  {
   "cell_type": "code",
   "execution_count": null,
   "metadata": {},
   "outputs": [
    {
     "data": {
      "text/plain": [
       "'value2'"
      ]
     },
     "execution_count": 3,
     "metadata": {},
     "output_type": "execute_result"
    }
   ],
   "source": [
    "nested_structure['nested']['item2']"
   ]
  },
  {
   "cell_type": "code",
   "execution_count": null,
   "metadata": {},
   "outputs": [],
   "source": []
  }
 ],
 "metadata": {
  "kernelspec": {
   "display_name": "holocaust",
   "language": "python",
   "name": "python3"
  },
  "language_info": {
   "codemirror_mode": {
    "name": "ipython",
    "version": 3
   },
   "file_extension": ".py",
   "mimetype": "text/x-python",
   "name": "python",
   "nbconvert_exporter": "python",
   "pygments_lexer": "ipython3",
   "version": "3.10.13"
  }
 },
 "nbformat": 4,
 "nbformat_minor": 2
}
